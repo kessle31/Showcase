{
 "metadata": {
  "name": "",
  "signature": "sha256:703a82ac5e64b10a7a6bfaf26a7a6a6c2b695101803df82bea80b765e47d9279"
 },
 "nbformat": 3,
 "nbformat_minor": 0,
 "worksheets": [
  {
   "cells": [
    {
     "cell_type": "heading",
     "level": 1,
     "metadata": {},
     "source": [
      "1 Preliminaries"
     ]
    },
    {
     "cell_type": "raw",
     "metadata": {},
     "source": []
    },
    {
     "cell_type": "heading",
     "level": 2,
     "metadata": {},
     "source": [
      "1.1 Header & functions"
     ]
    },
    {
     "cell_type": "code",
     "collapsed": false,
     "input": [
      "import csv as csv\n",
      "import numpy as np\n",
      "import pandas as pd\n",
      "import scipy.optimize as scopt\n",
      "import time\n",
      "import pylab as pl\n",
      "import matplotlib.pyplot as plt\n",
      "from mpl_toolkits.mplot3d import axes3d\n",
      "\n",
      "%pylab inline\n",
      "\n",
      "def FeatureNormalize(X):\n",
      "  \"\"\" Takes a feature Matrix (m x n), normalizes each feature. \n",
      "      Returns the normalized feature Matrix X_norm and the vectors of std. deviations sigma, and means mu\"\"\"\n",
      "    \n",
      "  X_norm = X\n",
      "  mu = X.mean(axis = 0)\n",
      "  sigma = X.std(axis = 0)\n",
      "    \n",
      "  X_norm = (X - np.ones(X.shape).dot(diagflat(mu))) / (np.ones(X.shape).dot(diagflat(sigma)) )\n",
      "    \n",
      "  return X_norm, mu, sigma  \n",
      "\n",
      "def sigmoid(x):\n",
      "  \"\"\" sigmoid(x) calculates the elementwise sigmoid function for an array x\"\"\"  \n",
      "    \n",
      "  g = 1.0 / (1.0 + np.exp(-x))  \n",
      "    \n",
      "  return g  \n",
      "\n",
      "def CostFunction(Theta, *args):\n",
      "  \"\"\" CostFunction calculates the cost function J of a two layer neural network of size\n",
      "  input_layer_size x hidden_layer_siye x num_labels with regularization parameter lam (args).\n",
      "  Returns the value of the Costfunction for a given combintion of weights Theta (unrolled matrices), features X, and labels Y\n",
      "  \"\"\"\n",
      "    \n",
      "  input_layer_size, hidden_layer_size, num_labels, X, Y, lam = args  \n",
      "    \n",
      "  Theta1 = reshape(Theta[:(input_layer_size + 1) * hidden_layer_size],        # Roll up the weights vector \n",
      "                             (hidden_layer_size,input_layer_size+1), order = 'F')     \n",
      "  Theta2 = reshape(Theta[(input_layer_size + 1) * hidden_layer_size :], \n",
      "                             (num_labels,hidden_layer_size+1), order = 'F')   \n",
      "    \n",
      "  m = size(X,0) \n",
      "    \n",
      "  # 1) Feedforward\n",
      "    \n",
      "  a1 = X.T\n",
      "    \n",
      "  z2 = Theta1.dot(append(np.ones((1,m)), a1 , axis = 0))\n",
      "  a2 = sigmoid(z2)\n",
      "  z3 = Theta2.dot(append(np.ones((1,m)), a2 , axis = 0))  \n",
      "  a3 = sigmoid(z3)                                          # a3 is the (num_labels x m) hypothesis matrix\n",
      "  \n",
      "    \n",
      "  a3vec = reshape(a3, (m*num_labels,1), order = 'F')        # Vectorized versions of a3\n",
      "    \n",
      "    \n",
      "  Yvec = reshape(Y.T,(m*num_labels,1), order = 'F')         # and Y\n",
      "  \n",
      "    \n",
      "    \n",
      "  # 2) Calculate the Costfunction\n",
      "     \n",
      "    \n",
      "  J = (1.0/m) * ((- Yvec.T.dot(np.log(a3vec + 0.000000000001)))  - (1 - Yvec).T.dot(np.log(1.000000000001 - a3vec)) )\\\n",
      "                 + lam/(2.0*m) * (Theta.dot(Theta) - Theta1[:,0].T.dot(Theta1[:,0]) - Theta2[:,0].T.dot(Theta2[:,0]))   \n",
      "  \n",
      "        \n",
      "  return double(J)\n",
      "\n",
      "def CostFunction_grad(Theta, *args):\n",
      "  \"\"\" CostFunction_grad calculates the gradient of the cost function J of a two layer neural network of size\n",
      "  input_layer_size x hidden_layer_siye x num_labels with regularization parameter lam (args).\n",
      "  It returns the gradient vector at a given weight vector given combintion of weights Theta (unrolled matrices), \n",
      "  features X, and labels Y.\n",
      "  \"\"\"\n",
      "    \n",
      "  input_layer_size, hidden_layer_size, num_labels, X, Y, lam = args  \n",
      "    \n",
      "  Theta1 = reshape(Theta[:(input_layer_size + 1) * hidden_layer_size],        # Roll up the weights vector \n",
      "                             (hidden_layer_size,input_layer_size+1), order = 'F')     \n",
      "  Theta2 = reshape(Theta[(input_layer_size + 1) * hidden_layer_size :], \n",
      "                             (num_labels,hidden_layer_size+1), order = 'F')   \n",
      "    \n",
      "  m = size(X,0) \n",
      "    \n",
      "  # 1) Feedforward\n",
      "    \n",
      "  a1 = X.T\n",
      "  z2 = Theta1.dot(append(np.ones((1,m)), a1 , axis = 0))\n",
      "  a2 = sigmoid(z2)\n",
      "  z3 = Theta2.dot(append(np.ones((1,m)), a2 , axis = 0))  \n",
      "  a3 = sigmoid(z3)                                                          # a3 is the (num_labels x m) hypothesis matrix\n",
      "    \n",
      "    \n",
      "  # 2) Backpropagation      \n",
      "        \n",
      "  d3 = a3 - Y.T \n",
      "  d2 = Theta2.T.dot(d3) * append(np.ones((1,m)), a2 , axis = 0)  * (1-append(np.ones((1,m)), a2 , axis = 0))     \n",
      "        \n",
      "  D1 = d2[1:,:].dot(append(np.ones((1,m)), a1 , axis = 0).T)/m      \n",
      "  D2 = d3.dot(append(np.ones((1,m)), a2 , axis = 0).T)/m   \n",
      "        \n",
      "  D1[:,1:] = D1[:,1:] + double(lam)/m * Theta1[:,1:]\n",
      "  D2[:,1:] = D2[:,1:] + double(lam)/m * Theta2[:,1:]     \n",
      "        \n",
      "        \n",
      "  # 3) Unroll gradients\n",
      "  grad = append(reshape(D1, ((input_layer_size + 1) * hidden_layer_size),order = 'F'), \\\n",
      "                reshape(D2, ((hidden_layer_size + 1) * num_labels),order = 'F'), \\\n",
      "                axis = 0)     \n",
      "        \n",
      "  return grad\n",
      "    \n",
      " \n",
      "def predict(X, Theta1, Theta2):\n",
      "  \"\"\" predict(X, Theta1, Theta2) returns the hypothesis vector of a trained 2 layered Neural Network with\n",
      "  weights Theta1 & Theta2, for a given feature matrix X\n",
      "  \"\"\"\n",
      " \n",
      "  m = size(X,0) \n",
      "    \n",
      "  a1 = X.T\n",
      "  z2 = Theta1.dot(append(np.ones((1,m)), a1 , axis = 0))\n",
      "  a2 = sigmoid(z2)\n",
      "  z3 = Theta2.dot(append(np.ones((1,m)), a2 , axis = 0))  \n",
      "  a3 = sigmoid(z3)                                         # a3 is the (num_labels x m) hypothesis matrix  \n",
      "    \n",
      "  h = np.argmax(a3, axis = 0) + 1                          # find the highest probability (add 1 for Python indexing)  \n",
      "    \n",
      "  return h\n",
      "\n",
      "\n"
     ],
     "language": "python",
     "metadata": {},
     "outputs": [
      {
       "output_type": "stream",
       "stream": "stdout",
       "text": [
        "Populating the interactive namespace from numpy and matplotlib\n"
       ]
      }
     ],
     "prompt_number": 1
    },
    {
     "cell_type": "heading",
     "level": 1,
     "metadata": {},
     "source": [
      "1.2 Loading the Data"
     ]
    },
    {
     "cell_type": "code",
     "collapsed": false,
     "input": [
      "\n",
      "Train_df = pd.read_csv('train.csv', header=0)   # Data Frame of training set\n",
      "m = size(Train_df,0)                            # number of training examples\n",
      "number_raw_features = size(Train_df,1) - 2      # number of features. Substract 2 for ID & labels\n"
     ],
     "language": "python",
     "metadata": {},
     "outputs": [],
     "prompt_number": 2
    },
    {
     "cell_type": "heading",
     "level": 1,
     "metadata": {},
     "source": [
      "1.3 Exploratory Data Analysis"
     ]
    },
    {
     "cell_type": "code",
     "collapsed": false,
     "input": [
      "hilf_str = 'delete unused features: '\n",
      "for column in Train_df.columns:\n",
      "  if len(Train_df[column].unique()) < 2:\n",
      "    hilf_str += ' ' + column    \n",
      "  print column, Train_df[column].mean(), Train_df[column].max(), Train_df[column].min() \n",
      "print Train_df.info()   \n",
      "# Data looks good. No obvious outliers. No missing values.\n",
      "print hilf_str\n",
      "# soil types 7 & 15 unused. Deleted below.\n"
     ],
     "language": "python",
     "metadata": {},
     "outputs": [
      {
       "output_type": "stream",
       "stream": "stdout",
       "text": [
        "Id 7560.5 15120 1\n",
        "Elevation 2749.32255291 3849 1863\n",
        "Aspect 156.676653439 360 0\n",
        "Slope 16.5015873016 52 0\n",
        "Horizontal_Distance_To_Hydrology 227.195701058 1343 0\n",
        "Vertical_Distance_To_Hydrology 51.076521164 554 -146\n",
        "Horizontal_Distance_To_Roadways 1714.02321429 6890 0\n",
        "Hillshade_9am 212.704298942 254 0\n",
        "Hillshade_Noon 218.965608466 254 99\n",
        "Hillshade_3pm 135.091997354 248 0\n",
        "Horizontal_Distance_To_Fire_Points 1511.14728836 6993 0\n",
        "Wilderness_Area1 0.237896825397 1 0\n",
        "Wilderness_Area2 0.0330026455026 1 0\n",
        "Wilderness_Area3 0.419907407407 1 0\n",
        "Wilderness_Area4 0.309193121693 1 0\n",
        "Soil_Type1 0.0234788359788 1 0\n",
        "Soil_Type2 0.0412037037037 1 0\n",
        "Soil_Type3 0.0636243386243 1 0\n",
        "Soil_Type4 0.055753968254 1 0\n",
        "Soil_Type5 0.0109126984127 1 0\n",
        "Soil_Type6 0.0429894179894 1 0\n",
        "Soil_Type7 0.0 0 0\n",
        "Soil_Type8 6.61375661376e-05 1 0\n",
        "Soil_Type9 0.000661375661376 1 0\n",
        "Soil_Type10 0.141666666667 1 0\n",
        "Soil_Type11 0.0268518518519 1 0\n",
        "Soil_Type12 0.0150132275132 1 0\n",
        "Soil_Type13 0.0314814814815 1 0\n",
        "Soil_Type14 0.0111772486772 1 0\n",
        "Soil_Type15 0.0 0 0\n",
        "Soil_Type16 0.00753968253968 1 0\n",
        "Soil_Type17 0.0404761904762 1 0\n",
        "Soil_Type18 0.00396825396825 1 0\n",
        "Soil_Type19 0.00304232804233 1 0\n",
        "Soil_Type20 0.00919312169312 1 0\n",
        "Soil_Type21 0.0010582010582 1 0\n",
        "Soil_Type22 0.0228174603175 1 0\n",
        "Soil_Type23 0.0500661375661 1 0\n",
        "Soil_Type24 0.0169973544974 1 0\n",
        "Soil_Type25 6.61375661376e-05 1 0\n",
        "Soil_Type26 0.00357142857143 1 0\n",
        "Soil_Type27 0.000992063492063 1 0\n",
        "Soil_Type28 0.000595238095238 1 0\n",
        "Soil_Type29 0.0853835978836 1 0\n",
        "Soil_Type30 0.0479497354497 1 0\n",
        "Soil_Type31 0.0219576719577 1 0\n",
        "Soil_Type32 0.0456349206349 1 0\n",
        "Soil_Type33 0.0407407407407 1 0\n",
        "Soil_Type34 0.00145502645503 1 0\n",
        "Soil_Type35 0.00674603174603 1 0\n",
        "Soil_Type36 0.000661375661376 1 0\n",
        "Soil_Type37 0.00224867724868 1 0\n",
        "Soil_Type38 0.0481481481481 1 0\n",
        "Soil_Type39 0.0434523809524 1 0\n",
        "Soil_Type40 0.0303571428571 1 0\n",
        "Cover_Type 4.0 7 1\n",
        "<class 'pandas.core.frame.DataFrame'>\n",
        "Int64Index: 15120 entries, 0 to 15119\n",
        "Data columns (total 56 columns):\n",
        "Id                                    15120 non-null int64\n",
        "Elevation                             15120 non-null int64\n",
        "Aspect                                15120 non-null int64\n",
        "Slope                                 15120 non-null int64\n",
        "Horizontal_Distance_To_Hydrology      15120 non-null int64\n",
        "Vertical_Distance_To_Hydrology        15120 non-null int64\n",
        "Horizontal_Distance_To_Roadways       15120 non-null int64\n",
        "Hillshade_9am                         15120 non-null int64\n",
        "Hillshade_Noon                        15120 non-null int64\n",
        "Hillshade_3pm                         15120 non-null int64\n",
        "Horizontal_Distance_To_Fire_Points    15120 non-null int64\n",
        "Wilderness_Area1                      15120 non-null int64\n",
        "Wilderness_Area2                      15120 non-null int64\n",
        "Wilderness_Area3                      15120 non-null int64\n",
        "Wilderness_Area4                      15120 non-null int64\n",
        "Soil_Type1                            15120 non-null int64\n",
        "Soil_Type2                            15120 non-null int64\n",
        "Soil_Type3                            15120 non-null int64\n",
        "Soil_Type4                            15120 non-null int64\n",
        "Soil_Type5                            15120 non-null int64\n",
        "Soil_Type6                            15120 non-null int64\n",
        "Soil_Type7                            15120 non-null int64\n",
        "Soil_Type8                            15120 non-null int64\n",
        "Soil_Type9                            15120 non-null int64\n",
        "Soil_Type10                           15120 non-null int64\n",
        "Soil_Type11                           15120 non-null int64\n",
        "Soil_Type12                           15120 non-null int64\n",
        "Soil_Type13                           15120 non-null int64\n",
        "Soil_Type14                           15120 non-null int64\n",
        "Soil_Type15                           15120 non-null int64\n",
        "Soil_Type16                           15120 non-null int64\n",
        "Soil_Type17                           15120 non-null int64\n",
        "Soil_Type18                           15120 non-null int64\n",
        "Soil_Type19                           15120 non-null int64\n",
        "Soil_Type20                           15120 non-null int64\n",
        "Soil_Type21                           15120 non-null int64\n",
        "Soil_Type22                           15120 non-null int64\n",
        "Soil_Type23                           15120 non-null int64\n",
        "Soil_Type24                           15120 non-null int64\n",
        "Soil_Type25                           15120 non-null int64\n",
        "Soil_Type26                           15120 non-null int64\n",
        "Soil_Type27                           15120 non-null int64\n",
        "Soil_Type28                           15120 non-null int64\n",
        "Soil_Type29                           15120 non-null int64\n",
        "Soil_Type30                           15120 non-null int64\n",
        "Soil_Type31                           15120 non-null int64\n",
        "Soil_Type32                           15120 non-null int64\n",
        "Soil_Type33                           15120 non-null int64\n",
        "Soil_Type34                           15120 non-null int64\n",
        "Soil_Type35                           15120 non-null int64\n",
        "Soil_Type36                           15120 non-null int64\n",
        "Soil_Type37                           15120 non-null int64\n",
        "Soil_Type38                           15120 non-null int64\n",
        "Soil_Type39                           15120 non-null int64\n",
        "Soil_Type40                           15120 non-null int64\n",
        "Cover_Type                            15120 non-null int64\n",
        "dtypes: int64(56)"
       ]
      },
      {
       "output_type": "stream",
       "stream": "stdout",
       "text": [
        "None\n",
        "delete unused features:  Soil_Type7 Soil_Type15\n"
       ]
      }
     ],
     "prompt_number": 3
    },
    {
     "cell_type": "heading",
     "level": 1,
     "metadata": {
      "slideshow": {
       "slide_type": "-"
      }
     },
     "source": [
      "1.4 Features and labels"
     ]
    },
    {
     "cell_type": "code",
     "collapsed": false,
     "input": [
      "data_compression = False # Compress features manually? Note: This compression turns out\n",
      "                         # to be to radical, and leads to inferior results.\n",
      "                         # By projecting all soil features on one axis introduces a misleading \"distance artifact\" \n",
      "                         # (i.e., Soil Type 2 is closer to Soil Type 3 than to Soil Type 4) \n",
      "                         # ==> leave False\n",
      "                         # In contrast for the Soil Type and Wilderness Area feature a dimensionality reduction by 1 (each) is \n",
      "                         # possible w/out loss of information. (see next option)\n",
      "                         \n",
      "data_compression_PCA = True # Compress features using Principal Component Analysis"
     ],
     "language": "python",
     "metadata": {},
     "outputs": [],
     "prompt_number": 4
    },
    {
     "cell_type": "code",
     "collapsed": false,
     "input": [
      "# Rearrange the labels of the training set in vectorized form (Y is m x 7(# of labels) Matrix)\n",
      "\n",
      "labels = Train_df['Cover_Type']                       # Extract the labels of each training example\n",
      "Y = np.zeros((m,len(Train_df['Cover_Type'].unique())))\n",
      "for i in range(len(Train_df['Cover_Type'].unique())):\n",
      "  Y[:,i]=(Train_df['Cover_Type'] == i+1)\n",
      "        "
     ],
     "language": "python",
     "metadata": {},
     "outputs": [],
     "prompt_number": 21
    },
    {
     "cell_type": "code",
     "collapsed": false,
     "input": [
      "if data_compression:\n",
      "    \n",
      "  # Defining a 1 dim 'Soil' feature that contains all information of the original 40 features\n",
      "  soil_feature = np.zeros(size(Train_df,0))\n",
      "  Soil_Types = []\n",
      "  for i in np.arange(40):\n",
      "    soil_feature[(Train_df['Soil_Type'+str(i+1)] == 1).values] = i+1\n",
      "    Soil_Types.append('Soil_Type'+str(i+1))\n",
      "    \n",
      "  Train_df['Soil'] = soil_feature \n",
      "  Train_df = Train_df.drop(Soil_Types, axis = 1)\n",
      "    \n",
      "  # Defining a 1 dim 'Wilderness' feature that contains all information of the original 4 features\n",
      "  wilderness_feature = np.zeros(size(Train_df,0))\n",
      "  Wilderness_Areas = []\n",
      "  for i in np.arange(4):\n",
      "    wilderness_feature[(Train_df['Wilderness_Area'+str(i+1)] == 1).values] = i+1\n",
      "    Wilderness_Areas.append('Wilderness_Area'+str(i+1))\n",
      "    \n",
      "  Train_df['Wilderness'] = wilderness_feature \n",
      "  Train_df = Train_df.drop(Wilderness_Areas, axis = 1)    "
     ],
     "language": "python",
     "metadata": {},
     "outputs": [],
     "prompt_number": 6
    },
    {
     "cell_type": "code",
     "collapsed": false,
     "input": [
      "# Create ndarray of the features (w/out ID)\n",
      "if data_compression:\n",
      "  X = Train_df.drop(['Id', 'Cover_Type'], axis = 1).values\n",
      "else: \n",
      "  X = Train_df.drop(['Id','Soil_Type7','Soil_Type15', 'Cover_Type'], axis = 1).values # at least drop unused features\n",
      "    \n",
      "(X_norm, mu, sigma) = FeatureNormalize(X)                                # X_norm has features with zero mean and std = 1"
     ],
     "language": "python",
     "metadata": {},
     "outputs": [],
     "prompt_number": 7
    },
    {
     "cell_type": "heading",
     "level": 3,
     "metadata": {},
     "source": [
      "1.4.1 Prinicipal component analysis"
     ]
    },
    {
     "cell_type": "code",
     "collapsed": false,
     "input": [
      "Sigma = X_norm.T.dot(X_norm)/double(m)\n",
      "[U,S,V] = np.linalg.svd(Sigma)\n",
      "S  # Two components can be dropped while retaining full variance. These components correspond to the feature set \n",
      "   # Soil_TypeXX (XX from 1 to 40) and Wilderness_AreaX (X from 1 to 4). One can show that both feature sets can be projected \n",
      "   # into a lower dimensional space (dimension reduced by 1) without loss of information.\n",
      "   # Further compression of the data seems not necessary. \n",
      "   # The remaining dimension of the feature space (50) allows for efficient computation"
     ],
     "language": "python",
     "metadata": {},
     "outputs": [
      {
       "metadata": {},
       "output_type": "pyout",
       "prompt_number": 8,
       "text": [
        "array([  4.25071986e+00,   3.00251347e+00,   2.37851338e+00,\n",
        "         2.04214512e+00,   1.58201449e+00,   1.37239629e+00,\n",
        "         1.17169919e+00,   1.15684380e+00,   1.14054905e+00,\n",
        "         1.06259863e+00,   1.05987501e+00,   1.05283541e+00,\n",
        "         1.04993493e+00,   1.04664165e+00,   1.03954096e+00,\n",
        "         1.03707232e+00,   1.03299457e+00,   1.02959760e+00,\n",
        "         1.02577041e+00,   1.02444669e+00,   1.02404784e+00,\n",
        "         1.01767392e+00,   1.01663265e+00,   1.01352086e+00,\n",
        "         1.01136121e+00,   1.00910596e+00,   1.00751815e+00,\n",
        "         1.00677153e+00,   1.00470586e+00,   1.00394775e+00,\n",
        "         1.00308113e+00,   1.00224693e+00,   1.00181786e+00,\n",
        "         1.00145166e+00,   1.00097808e+00,   1.00081438e+00,\n",
        "         1.00016128e+00,   9.47978471e-01,   8.31784338e-01,\n",
        "         6.96956688e-01,   5.98596332e-01,   5.16371538e-01,\n",
        "         3.94827270e-01,   3.55090690e-01,   3.20509865e-01,\n",
        "         2.55795788e-01,   2.03323254e-01,   1.33391047e-01,\n",
        "         5.80072591e-02,   2.82759609e-03,   1.88769882e-15,\n",
        "         4.68435857e-16])"
       ]
      }
     ],
     "prompt_number": 8
    },
    {
     "cell_type": "code",
     "collapsed": false,
     "input": [
      "Ureduce = U[:,:-2]            # Projector into lower dim space\n",
      "Z = Ureduce.T.dot(X_norm.T).T # Projected feature vectors\n",
      "if data_compression_PCA:\n",
      "  X_norm = Z"
     ],
     "language": "python",
     "metadata": {},
     "outputs": [],
     "prompt_number": 9
    },
    {
     "cell_type": "heading",
     "level": 3,
     "metadata": {},
     "source": [
      "1.4.2 Define Training / Crossvalidation sets"
     ]
    },
    {
     "cell_type": "code",
     "collapsed": false,
     "input": [
      "TCratio = 0.7 # ratio of Training set size /  CV set size\n",
      "divider = int(round(TCratio*m,0))\n",
      "\n",
      "randix = np.random.permutation(m)\n",
      "\n",
      "# Trainings Set\n",
      "X_train = X_norm[randix[:divider],:]           \n",
      "Y_train = Y[randix[:divider],:]\n",
      "labels_train = labels[randix[:divider]]\n",
      "\n",
      "# Crossvalidation Set\n",
      "X_CV = X_norm[randix[divider:],:]\n",
      "Y_CV = Y[randix[divider:],:]\n",
      "labels_CV = labels[randix[divider:]]\n"
     ],
     "language": "python",
     "metadata": {},
     "outputs": [],
     "prompt_number": 10
    },
    {
     "cell_type": "heading",
     "level": 1,
     "metadata": {},
     "source": [
      "2 Neural Network Classification: One for All"
     ]
    },
    {
     "cell_type": "heading",
     "level": 2,
     "metadata": {},
     "source": [
      "2.1 Cross validation & error analysis"
     ]
    },
    {
     "cell_type": "code",
     "collapsed": false,
     "input": [
      "### In this section we train our Network for different parmeters, and evaluate its performance over the CV set to find an optimum\n",
      "\n",
      "### Warning: Takes several hours to run\n",
      "\n",
      "input_layer_size  = size(X_norm,1)                         # input layer size (number of features)\n",
      "num_labels = len(Train_df['Cover_Type'].unique())          # number of labels\n",
      "HLSs = [30, 40, 50, 60, 70, 80]                            # Hidden Layer siyes to loop through\n",
      "lams = [0, 0.01, 0.03, 0.1, 0.3, 1, 3, 10]                 # REgularization parameters to loop through\n",
      "\n",
      "Train_error = np.zeros((len(HLSs), len(lams)))\n",
      "CV_error = np.zeros((len(HLSs), len(lams)))\n",
      "J_train = np.zeros((len(HLSs), len(lams)))\n",
      "J_CV = np.zeros((len(HLSs), len(lams)))\n",
      "\n",
      "i=0\n",
      "\n",
      "for hidden_layer_size in HLSs:                   # loop over different hidden layer sizes\n",
      " \n",
      "  # Initialize weights randomly\n",
      "    \n",
      "  epsilon_init = 2;                                                                       \n",
      "  Theta1 = (np.random.rand(hidden_layer_size, input_layer_size + 1) - 0.5) * epsilon_init \n",
      "  Theta2 = (np.random.rand(num_labels, hidden_layer_size + 1) - 0.5) * epsilon_init \n",
      "\n",
      "  Theta_0 = append(reshape(Theta1, (hidden_layer_size * (input_layer_size + 1)), order = 'F') ,  # vectorize parameters\n",
      "                   reshape(Theta2, (num_labels * (hidden_layer_size + 1)), order = 'F'), \\\n",
      "                   axis = 0)\n",
      "  \n",
      "  j=0\n",
      "\n",
      "  for lam in lams:                               # loop over regularization parameter\n",
      "\n",
      "    args_train = (input_layer_size, hidden_layer_size, num_labels, X_train, Y_train, lam)\n",
      "    args_CV = (input_layer_size, hidden_layer_size, num_labels, X_CV, Y_CV, lam)\n",
      "\n",
      "    ## Train the Network\n",
      "    \n",
      "    start = time.time()\n",
      "\n",
      "    Theta_opt = scopt.fmin_cg(CostFunction, Theta_0, fprime=CostFunction_grad, args=args_train) \n",
      "    \n",
      "    Theta1_opt = reshape(Theta_opt[:(input_layer_size + 1) * hidden_layer_size],        # Roll up the optimized weights vector \n",
      "                             (hidden_layer_size,input_layer_size+1), order = 'F')     \n",
      "    Theta2_opt = reshape(Theta_opt[(input_layer_size + 1) * hidden_layer_size :],   \n",
      "                             (num_labels,hidden_layer_size+1), order = 'F')   \n",
      "\n",
      "    \n",
      "    ## Calculate Figures of Merit\n",
      "    \n",
      "    h_train = predict(X_train,Theta1_opt,Theta2_opt)  \n",
      "    h_CV    = predict(X_CV,Theta1_opt,Theta2_opt)\n",
      "    \n",
      "    Train_error[i,j] = (h_train!=labels_train).mean()  \n",
      "    CV_error[i,j] = (h_CV!=labels_CV).mean()  \n",
      "    \n",
      "    \n",
      "    args_train = (input_layer_size, hidden_layer_size, num_labels, X_train, Y_train, 0) #set lambda to zero (no regulariztion)\n",
      "    args_CV = (input_layer_size, hidden_layer_size, num_labels, X_CV, Y_CV, 0)          #Otherwise larger networks wrongly\n",
      "                                                                                        #get penalized during evaluation\n",
      "    J_train[i,j] = CostFunction(Theta_opt,*args_train) \n",
      "    J_CV[i,j] = CostFunction(Theta_opt,*args_CV)\n",
      "    \n",
      "    j+=1\n",
      "    \n",
      "    end = time.time()\n",
      "\n",
      "    print 'Elapsed time:' + str((end - start)) + ' seconds' \n",
      "\n",
      "  i+=1  "
     ],
     "language": "python",
     "metadata": {},
     "outputs": [
      {
       "output_type": "stream",
       "stream": "stdout",
       "text": [
        "Optimization terminated successfully.\n",
        "         Current function value: 0.613322\n",
        "         Iterations: 56967\n",
        "         Function evaluations: 113919\n",
        "         Gradient evaluations: 113919\n",
        "Elapsed time:3289.07190299 seconds\n",
        "Optimization terminated successfully."
       ]
      },
      {
       "output_type": "stream",
       "stream": "stdout",
       "text": [
        "\n",
        "         Current function value: 0.669116\n",
        "         Iterations: 12189\n",
        "         Function evaluations: 24367\n",
        "         Gradient evaluations: 24367\n",
        "Elapsed time:610.713079929 seconds\n",
        "Optimization terminated successfully."
       ]
      },
      {
       "output_type": "stream",
       "stream": "stdout",
       "text": [
        "\n",
        "         Current function value: 0.708914\n",
        "         Iterations: 5555\n",
        "         Function evaluations: 11116\n",
        "         Gradient evaluations: 11116\n",
        "Elapsed time:331.906512976 seconds\n",
        "Optimization terminated successfully."
       ]
      },
      {
       "output_type": "stream",
       "stream": "stdout",
       "text": [
        "\n",
        "         Current function value: 0.736977\n",
        "         Iterations: 4294\n",
        "         Function evaluations: 8593\n",
        "         Gradient evaluations: 8593\n",
        "Elapsed time:257.632570982 seconds\n",
        "Optimization terminated successfully."
       ]
      },
      {
       "output_type": "stream",
       "stream": "stdout",
       "text": [
        "\n",
        "         Current function value: 0.777034\n",
        "         Iterations: 5066\n",
        "         Function evaluations: 9640\n",
        "         Gradient evaluations: 9640\n",
        "Elapsed time:292.773401022 seconds\n",
        "Optimization terminated successfully."
       ]
      },
      {
       "output_type": "stream",
       "stream": "stdout",
       "text": [
        "\n",
        "         Current function value: 0.885702\n",
        "         Iterations: 3531\n",
        "         Function evaluations: 7067\n",
        "         Gradient evaluations: 7067\n",
        "Elapsed time:211.245950937 seconds\n",
        "Optimization terminated successfully."
       ]
      },
      {
       "output_type": "stream",
       "stream": "stdout",
       "text": [
        "\n",
        "         Current function value: 1.041364\n",
        "         Iterations: 1872\n",
        "         Function evaluations: 3748\n",
        "         Gradient evaluations: 3748\n",
        "Elapsed time:112.225836039 seconds\n",
        "Optimization terminated successfully."
       ]
      },
      {
       "output_type": "stream",
       "stream": "stdout",
       "text": [
        "\n",
        "         Current function value: 1.286061\n",
        "         Iterations: 1077\n",
        "         Function evaluations: 2160\n",
        "         Gradient evaluations: 2160\n",
        "Elapsed time:64.60927701 seconds\n",
        "Optimization terminated successfully."
       ]
      },
      {
       "output_type": "stream",
       "stream": "stdout",
       "text": [
        "\n",
        "         Current function value: 0.509120\n",
        "         Iterations: 12360\n",
        "         Function evaluations: 25622\n",
        "         Gradient evaluations: 25622\n",
        "Elapsed time:876.967100859 seconds\n",
        "Optimization terminated successfully."
       ]
      },
      {
       "output_type": "stream",
       "stream": "stdout",
       "text": [
        "\n",
        "         Current function value: 0.563898\n",
        "         Iterations: 10743\n",
        "         Function evaluations: 21546\n",
        "         Gradient evaluations: 21546\n",
        "Elapsed time:839.721986055 seconds\n",
        "Optimization terminated successfully."
       ]
      },
      {
       "output_type": "stream",
       "stream": "stdout",
       "text": [
        "\n",
        "         Current function value: 0.572934\n",
        "         Iterations: 8890\n",
        "         Function evaluations: 17937\n",
        "         Gradient evaluations: 17937\n",
        "Elapsed time:684.323114872 seconds\n",
        "Optimization terminated successfully."
       ]
      },
      {
       "output_type": "stream",
       "stream": "stdout",
       "text": [
        "\n",
        "         Current function value: 0.604892\n",
        "         Iterations: 8249\n",
        "         Function evaluations: 16561\n",
        "         Gradient evaluations: 16561\n",
        "Elapsed time:632.041101933 seconds\n",
        "Optimization terminated successfully."
       ]
      },
      {
       "output_type": "stream",
       "stream": "stdout",
       "text": [
        "\n",
        "         Current function value: 0.687069\n",
        "         Iterations: 6717\n",
        "         Function evaluations: 13432\n",
        "         Gradient evaluations: 13432\n",
        "Elapsed time:510.597259045 seconds\n",
        "Optimization terminated successfully."
       ]
      },
      {
       "output_type": "stream",
       "stream": "stdout",
       "text": [
        "\n",
        "         Current function value: 0.808360\n",
        "         Iterations: 4177\n",
        "         Function evaluations: 8297\n",
        "         Gradient evaluations: 8297\n",
        "Elapsed time:318.936348915 seconds\n",
        "Optimization terminated successfully."
       ]
      },
      {
       "output_type": "stream",
       "stream": "stdout",
       "text": [
        "\n",
        "         Current function value: 0.998839\n",
        "         Iterations: 2328\n",
        "         Function evaluations: 4654\n",
        "         Gradient evaluations: 4654\n",
        "Elapsed time:176.163700819 seconds\n",
        "Optimization terminated successfully."
       ]
      },
      {
       "output_type": "stream",
       "stream": "stdout",
       "text": [
        "\n",
        "         Current function value: 1.275828\n",
        "         Iterations: 2115\n",
        "         Function evaluations: 4232\n",
        "         Gradient evaluations: 4232\n",
        "Elapsed time:161.058657885 seconds\n",
        "Optimization terminated successfully."
       ]
      },
      {
       "output_type": "stream",
       "stream": "stdout",
       "text": [
        "\n",
        "         Current function value: 0.399319\n",
        "         Iterations: 34602\n",
        "         Function evaluations: 55837\n",
        "         Gradient evaluations: 55837\n",
        "Elapsed time:2387.15206218 seconds"
       ]
      },
      {
       "output_type": "stream",
       "stream": "stdout",
       "text": [
        "\n",
        "Optimization terminated successfully."
       ]
      },
      {
       "output_type": "stream",
       "stream": "stdout",
       "text": [
        "\n",
        "         Current function value: 0.468508\n",
        "         Iterations: 11038\n",
        "         Function evaluations: 22090\n",
        "         Gradient evaluations: 22090\n",
        "Elapsed time:1005.95739293 seconds\n",
        "Optimization terminated successfully."
       ]
      },
      {
       "output_type": "stream",
       "stream": "stdout",
       "text": [
        "\n",
        "         Current function value: 0.501549\n",
        "         Iterations: 7736\n",
        "         Function evaluations: 15480\n",
        "         Gradient evaluations: 15480\n",
        "Elapsed time:704.97480011 seconds"
       ]
      },
      {
       "output_type": "stream",
       "stream": "stdout",
       "text": [
        "\n",
        "Optimization terminated successfully."
       ]
      },
      {
       "output_type": "stream",
       "stream": "stdout",
       "text": [
        "\n",
        "         Current function value: 0.535878\n",
        "         Iterations: 5563\n",
        "         Function evaluations: 11128\n",
        "         Gradient evaluations: 11128\n",
        "Elapsed time:507.426370144 seconds\n",
        "Optimization terminated successfully."
       ]
      },
      {
       "output_type": "stream",
       "stream": "stdout",
       "text": [
        "\n",
        "         Current function value: 0.611252\n",
        "         Iterations: 7314\n",
        "         Function evaluations: 13651\n",
        "         Gradient evaluations: 13651\n",
        "Elapsed time:622.882320166 seconds\n",
        "Optimization terminated successfully."
       ]
      },
      {
       "output_type": "stream",
       "stream": "stdout",
       "text": [
        "\n",
        "         Current function value: 0.772658\n",
        "         Iterations: 4508\n",
        "         Function evaluations: 8722\n",
        "         Gradient evaluations: 8722\n",
        "Elapsed time:397.556035042 seconds"
       ]
      },
      {
       "output_type": "stream",
       "stream": "stdout",
       "text": [
        "\n",
        "Optimization terminated successfully."
       ]
      },
      {
       "output_type": "stream",
       "stream": "stdout",
       "text": [
        "\n",
        "         Current function value: 0.979559\n",
        "         Iterations: 3820\n",
        "         Function evaluations: 7587\n",
        "         Gradient evaluations: 7587\n",
        "Elapsed time:346.852169991 seconds\n",
        "Optimization terminated successfully."
       ]
      },
      {
       "output_type": "stream",
       "stream": "stdout",
       "text": [
        "\n",
        "         Current function value: 1.270497\n",
        "         Iterations: 1808\n",
        "         Function evaluations: 3603\n",
        "         Gradient evaluations: 3603\n",
        "Elapsed time:164.553233147 seconds\n",
        "Optimization terminated successfully."
       ]
      },
      {
       "output_type": "stream",
       "stream": "stdout",
       "text": [
        "\n",
        "         Current function value: 0.256971\n",
        "         Iterations: 74706\n",
        "         Function evaluations: 110519\n",
        "         Gradient evaluations: 110519\n",
        "Elapsed time:6100.14685106 seconds"
       ]
      },
      {
       "output_type": "stream",
       "stream": "stdout",
       "text": [
        "\n",
        "Optimization terminated successfully."
       ]
      },
      {
       "output_type": "stream",
       "stream": "stdout",
       "text": [
        "\n",
        "         Current function value: 0.345240\n",
        "         Iterations: 7903\n",
        "         Function evaluations: 16081\n",
        "         Gradient evaluations: 16081\n",
        "Elapsed time:888.400509119 seconds"
       ]
      },
      {
       "output_type": "stream",
       "stream": "stdout",
       "text": [
        "\n",
        "Optimization terminated successfully."
       ]
      },
      {
       "output_type": "stream",
       "stream": "stdout",
       "text": [
        "\n",
        "         Current function value: 0.375727\n",
        "         Iterations: 8142\n",
        "         Function evaluations: 16301\n",
        "         Gradient evaluations: 16301\n",
        "Elapsed time:900.636516094 seconds"
       ]
      },
      {
       "output_type": "stream",
       "stream": "stdout",
       "text": [
        "\n",
        "Optimization terminated successfully."
       ]
      },
      {
       "output_type": "stream",
       "stream": "stdout",
       "text": [
        "\n",
        "         Current function value: 0.447994\n",
        "         Iterations: 8739\n",
        "         Function evaluations: 17469\n",
        "         Gradient evaluations: 17469\n",
        "Elapsed time:965.51089406 seconds"
       ]
      },
      {
       "output_type": "stream",
       "stream": "stdout",
       "text": [
        "\n",
        "Optimization terminated successfully."
       ]
      },
      {
       "output_type": "stream",
       "stream": "stdout",
       "text": [
        "\n",
        "         Current function value: 0.547381\n",
        "         Iterations: 7759\n",
        "         Function evaluations: 15424\n",
        "         Gradient evaluations: 15424\n",
        "Elapsed time:851.466099977 seconds"
       ]
      },
      {
       "output_type": "stream",
       "stream": "stdout",
       "text": [
        "\n",
        "Optimization terminated successfully."
       ]
      },
      {
       "output_type": "stream",
       "stream": "stdout",
       "text": [
        "\n",
        "         Current function value: 0.736544\n",
        "         Iterations: 6678\n",
        "         Function evaluations: 12597\n",
        "         Gradient evaluations: 12597\n",
        "Elapsed time:694.297636032 seconds"
       ]
      },
      {
       "output_type": "stream",
       "stream": "stdout",
       "text": [
        "\n",
        "Optimization terminated successfully."
       ]
      },
      {
       "output_type": "stream",
       "stream": "stdout",
       "text": [
        "\n",
        "         Current function value: 0.960141\n",
        "         Iterations: 5601\n",
        "         Function evaluations: 11051\n",
        "         Gradient evaluations: 11051\n",
        "Elapsed time:610.725131989 seconds"
       ]
      },
      {
       "output_type": "stream",
       "stream": "stdout",
       "text": [
        "\n",
        "Optimization terminated successfully."
       ]
      },
      {
       "output_type": "stream",
       "stream": "stdout",
       "text": [
        "\n",
        "         Current function value: 1.269865\n",
        "         Iterations: 4769\n",
        "         Function evaluations: 9071\n",
        "         Gradient evaluations: 9071\n",
        "Elapsed time:501.451174021 seconds"
       ]
      },
      {
       "output_type": "stream",
       "stream": "stdout",
       "text": [
        "\n",
        "Optimization terminated successfully."
       ]
      },
      {
       "output_type": "stream",
       "stream": "stdout",
       "text": [
        "\n",
        "         Current function value: 0.124730\n",
        "         Iterations: 12053\n",
        "         Function evaluations: 24355\n",
        "         Gradient evaluations: 24355\n",
        "Elapsed time:1543.27410507 seconds"
       ]
      },
      {
       "output_type": "stream",
       "stream": "stdout",
       "text": [
        "\n",
        "Optimization terminated successfully."
       ]
      },
      {
       "output_type": "stream",
       "stream": "stdout",
       "text": [
        "\n",
        "         Current function value: 0.255274\n",
        "         Iterations: 12722\n",
        "         Function evaluations: 25410\n",
        "         Gradient evaluations: 25410\n",
        "Elapsed time:1612.31795597 seconds"
       ]
      },
      {
       "output_type": "stream",
       "stream": "stdout",
       "text": [
        "\n",
        "Optimization terminated successfully."
       ]
      },
      {
       "output_type": "stream",
       "stream": "stdout",
       "text": [
        "\n",
        "         Current function value: 0.315260\n",
        "         Iterations: 10507\n",
        "         Function evaluations: 21006\n",
        "         Gradient evaluations: 21006\n",
        "Elapsed time:1332.63849592 seconds"
       ]
      },
      {
       "output_type": "stream",
       "stream": "stdout",
       "text": [
        "\n",
        "Optimization terminated successfully."
       ]
      },
      {
       "output_type": "stream",
       "stream": "stdout",
       "text": [
        "\n",
        "         Current function value: 0.390420\n",
        "         Iterations: 10234\n",
        "         Function evaluations: 19211\n",
        "         Gradient evaluations: 19211\n",
        "Elapsed time:1219.0122211 seconds"
       ]
      },
      {
       "output_type": "stream",
       "stream": "stdout",
       "text": [
        "\n",
        "Optimization terminated successfully."
       ]
      },
      {
       "output_type": "stream",
       "stream": "stdout",
       "text": [
        "\n",
        "         Current function value: 0.511351\n",
        "         Iterations: 7397\n",
        "         Function evaluations: 14779\n",
        "         Gradient evaluations: 14779\n",
        "Elapsed time:937.652996063 seconds"
       ]
      },
      {
       "output_type": "stream",
       "stream": "stdout",
       "text": [
        "\n",
        "Optimization terminated successfully."
       ]
      },
      {
       "output_type": "stream",
       "stream": "stdout",
       "text": [
        "\n",
        "         Current function value: 0.716021\n",
        "         Iterations: 7453\n",
        "         Function evaluations: 13415\n",
        "         Gradient evaluations: 13415\n",
        "Elapsed time:851.515250921 seconds"
       ]
      },
      {
       "output_type": "stream",
       "stream": "stdout",
       "text": [
        "\n",
        "Optimization terminated successfully."
       ]
      },
      {
       "output_type": "stream",
       "stream": "stdout",
       "text": [
        "\n",
        "         Current function value: 0.957767\n",
        "         Iterations: 3691\n",
        "         Function evaluations: 7012\n",
        "         Gradient evaluations: 7012\n",
        "Elapsed time:445.007939816 seconds"
       ]
      },
      {
       "output_type": "stream",
       "stream": "stdout",
       "text": [
        "\n",
        "Optimization terminated successfully."
       ]
      },
      {
       "output_type": "stream",
       "stream": "stdout",
       "text": [
        "\n",
        "         Current function value: 1.268518\n",
        "         Iterations: 4078\n",
        "         Function evaluations: 7510\n",
        "         Gradient evaluations: 7510\n",
        "Elapsed time:476.606189966 seconds"
       ]
      },
      {
       "output_type": "stream",
       "stream": "stdout",
       "text": [
        "\n",
        "Warning: Desired error not necessarily achieved due to precision loss."
       ]
      },
      {
       "output_type": "stream",
       "stream": "stdout",
       "text": [
        "\n",
        "         Current function value: 0.036346\n",
        "         Iterations: 17412\n",
        "         Function evaluations: 37038\n",
        "         Gradient evaluations: 37027\n",
        "Elapsed time:2506.32915998 seconds"
       ]
      },
      {
       "output_type": "stream",
       "stream": "stdout",
       "text": [
        "\n",
        "Optimization terminated successfully."
       ]
      },
      {
       "output_type": "stream",
       "stream": "stdout",
       "text": [
        "\n",
        "         Current function value: 0.150759\n",
        "         Iterations: 24896\n",
        "         Function evaluations: 49735\n",
        "         Gradient evaluations: 49735\n",
        "Elapsed time:3525.05572605 seconds"
       ]
      },
      {
       "output_type": "stream",
       "stream": "stdout",
       "text": [
        "\n",
        "Optimization terminated successfully."
       ]
      },
      {
       "output_type": "stream",
       "stream": "stdout",
       "text": [
        "\n",
        "         Current function value: 0.239785\n",
        "         Iterations: 12219\n",
        "         Function evaluations: 24398\n",
        "         Gradient evaluations: 24398\n",
        "Elapsed time:1729.31347108 seconds"
       ]
      },
      {
       "output_type": "stream",
       "stream": "stdout",
       "text": [
        "\n",
        "Optimization terminated successfully."
       ]
      },
      {
       "output_type": "stream",
       "stream": "stdout",
       "text": [
        "\n",
        "         Current function value: 0.330701\n",
        "         Iterations: 10293\n",
        "         Function evaluations: 20541\n",
        "         Gradient evaluations: 20541\n",
        "Elapsed time:1452.80370307 seconds"
       ]
      },
      {
       "output_type": "stream",
       "stream": "stdout",
       "text": [
        "\n",
        "Optimization terminated successfully."
       ]
      },
      {
       "output_type": "stream",
       "stream": "stdout",
       "text": [
        "\n",
        "         Current function value: 0.475869\n",
        "         Iterations: 11931\n",
        "         Function evaluations: 21352\n",
        "         Gradient evaluations: 21352\n",
        "Elapsed time:1501.70505309 seconds"
       ]
      },
      {
       "output_type": "stream",
       "stream": "stdout",
       "text": [
        "\n",
        "Optimization terminated successfully."
       ]
      },
      {
       "output_type": "stream",
       "stream": "stdout",
       "text": [
        "\n",
        "         Current function value: 0.691691\n",
        "         Iterations: 9559\n",
        "         Function evaluations: 16504\n",
        "         Gradient evaluations: 16504\n",
        "Elapsed time:1160.82976508 seconds"
       ]
      },
      {
       "output_type": "stream",
       "stream": "stdout",
       "text": [
        "\n",
        "Optimization terminated successfully."
       ]
      },
      {
       "output_type": "stream",
       "stream": "stdout",
       "text": [
        "\n",
        "         Current function value: 0.950304\n",
        "         Iterations: 7419\n",
        "         Function evaluations: 13129\n",
        "         Gradient evaluations: 13129\n",
        "Elapsed time:923.171056986 seconds"
       ]
      },
      {
       "output_type": "stream",
       "stream": "stdout",
       "text": [
        "\n",
        "Optimization terminated successfully."
       ]
      },
      {
       "output_type": "stream",
       "stream": "stdout",
       "text": [
        "\n",
        "         Current function value: 1.270915\n",
        "         Iterations: 4362\n",
        "         Function evaluations: 7521\n",
        "         Gradient evaluations: 7521\n",
        "Elapsed time:529.366446972 seconds"
       ]
      },
      {
       "output_type": "stream",
       "stream": "stdout",
       "text": [
        "\n"
       ]
      }
     ],
     "prompt_number": 226
    },
    {
     "cell_type": "heading",
     "level": 1,
     "metadata": {},
     "source": [
      "2.2 Visualization of Cross validation"
     ]
    },
    {
     "cell_type": "code",
     "collapsed": false,
     "input": [
      "SavedData = 1\n",
      "\n",
      "if SavedData:\n",
      "    \n",
      "  ### Load CV data if needed (saved from a previous run under 'CV_data'):\n",
      "\n",
      "  import pickle\n",
      "  with open('CV_data','rb') as f:\n",
      "      data = pickle.load(f)\n",
      "  HLSs = [30, 40, 50, 60, 70, 80]                            # Hidden Layer sizes to loop through\n",
      "  lams = [0, 0.01, 0.03, 0.1, 0.3, 1, 3, 10]  \n",
      "else:\n",
      "  ### Use CV data from Section 2.1 & save to file\n",
      "  data = {'Train Error': Train_error , 'CV Error': CV_error, 'J Train': J_train, 'J CV':J_CV} \n",
      "  \n",
      "  import pickle\n",
      "  with open('CV_data2', 'wb') as handle:\n",
      "    pickle.dump(data, handle)  "
     ],
     "language": "python",
     "metadata": {},
     "outputs": [],
     "prompt_number": 14
    },
    {
     "cell_type": "code",
     "collapsed": false,
     "input": [
      "Min_index = np.unravel_index(data['CV Error'].argmin(), data['CV Error'].shape)\n",
      "print Min_index  \n",
      "\n",
      "# The minimum of the crossvalidation prediction error is found for (lambda = 1,hidden_layer_size = 80)"
     ],
     "language": "python",
     "metadata": {},
     "outputs": [
      {
       "output_type": "stream",
       "stream": "stdout",
       "text": [
        "(5, 5)\n"
       ]
      }
     ],
     "prompt_number": 15
    },
    {
     "cell_type": "code",
     "collapsed": false,
     "input": [
      "### Plot preparations\n",
      "\n",
      "x = np.zeros((len(HLSs),len(lams)-1))\n",
      "x = np.zeros((len(HLSs),len(lams)-1))\n",
      "for i in range(len(HLSs)):\n",
      "  y[i, :] = np.log(lams[1:])\n",
      "for j in range(len(lams)-1):\n",
      "  x[:, j] = HLSs"
     ],
     "language": "python",
     "metadata": {},
     "outputs": [],
     "prompt_number": 16
    },
    {
     "cell_type": "code",
     "collapsed": false,
     "input": [
      "### Visualize Training / CV Errors and Cost functions\n",
      "\n",
      "fig = plt.figure(figsize=(20,15))\n",
      "\n",
      "fig.subplots_adjust(wspace=0.1,hspace=0.5)\n",
      "\n",
      "subplot(3,2,1)\n",
      "fig1 = plt.pcolor(x[:,:], y[:,:], data['CV Error'][:,1:])\n",
      "cb1 = plt.colorbar()\n",
      "cb1.set_label('Prediction error cross validation')\n",
      "xlabel('Hidden layer size')\n",
      "ylabel('log($\\lambda$)')\n",
      "\n",
      "subplot(3,2,2)\n",
      "fig2 = plt.pcolor(x[:,:], y[:,:], data['J CV'][:,1:])\n",
      "cb2 = plt.colorbar()\n",
      "cb2.set_label('Cost function cross validation')\n",
      "xlabel('Hidden layer size')\n",
      "ylabel('log($\\lambda$)')\n",
      "\n",
      "subplot(3,2,3)\n",
      "plt.plot(np.log(lams[1:]),data['Train Error'][5,1:], 'r', label = 'Training set')\n",
      "plt.plot(np.log(lams[1:]),data['CV Error'][5,1:], 'b',label = 'CV set')\n",
      "\n",
      "xlabel('log($\\lambda$)')\n",
      "ylabel('Prediction error')\n",
      "title('Prediction error along hidden layer size = 80')\n",
      "plt.legend()\n",
      "\n",
      "subplot(3,2,4)\n",
      "plt.plot(np.log(lams[1:]),data['J Train'][5,1:], 'r', label = 'Training set')\n",
      "plt.plot(np.log(lams[1:]),data['J CV'][5,1:], 'b',label = 'CV set')\n",
      "\n",
      "xlabel('log($\\lambda$)')\n",
      "ylabel('Cost function')\n",
      "title('Cost function along hidden layer size = 80')\n",
      "plt.legend()\n",
      "\n",
      "subplot(3,2,5)\n",
      "plot(HLSs,data['Train Error'][:,5], 'r', label = 'Training set')\n",
      "plot(HLSs,data['CV Error'][:,5], 'b', label = 'CV set')\n",
      "\n",
      "xlabel('Hidden Layer size')\n",
      "ylabel('Prediction error')\n",
      "title('Prediction error along $\\lambda$=1')\n",
      "plt.legend()\n",
      "\n",
      "subplot(3,2,6)\n",
      "plot(HLSs,data['J Train'][:,5], 'r', label = 'Training set')\n",
      "plot(HLSs,data['J CV'][:,5], 'b', label = 'CV set')\n",
      "\n",
      "xlabel('Hidden Layer size')\n",
      "ylabel('Cost function')\n",
      "title('Cost function along $\\lambda$=1')\n",
      "plt.legend()\n"
     ],
     "language": "python",
     "metadata": {},
     "outputs": [
      {
       "metadata": {},
       "output_type": "pyout",
       "prompt_number": 347,
       "text": [
        "<matplotlib.legend.Legend at 0x14e1b53d0>"
       ]
      },
      {
       "metadata": {},
       "output_type": "display_data",
       "png": "[encoded data removed]",
       "text": [
        "<matplotlib.figure.Figure at 0x14ce85510>"
       ]
      }
     ],
     "prompt_number": 347
    },
    {
     "cell_type": "raw",
     "metadata": {},
     "source": [
      " The visual inspection of cost function and prediction errors of the test- and cross validation sets leads to the\n",
      " following conclusions:\n",
      " 1. Across the tested parameter values the pair (lambda = 1,hidden_layer_size = 80) displays the best performance\n",
      " 2. It seems that hidden layer sizes > 80 might lead to better results (FIGs. 5&6). \n",
      "    This furhter path will not be pursued here. \n",
      " 3. For hidden layer size = 80, optimal regularization is found for lambda = 1 (FIGs. 3&4)\n"
     ]
    },
    {
     "cell_type": "heading",
     "level": 2,
     "metadata": {},
     "source": [
      "2.3 Network Training"
     ]
    },
    {
     "cell_type": "code",
     "collapsed": false,
     "input": [
      "### After optimizing the free parameters lam, and hidden_layer_size over the crossvalidation set, \n",
      "### we train or network in the following:\n",
      "\n",
      "input_layer_size  = size(X_norm,1)                         # input layer size (number of features)\n",
      "hidden_layer_size = HLSs[Min_index[0]]                     # optimized hidden layer size (80)\n",
      "num_labels = len(Train_df['Cover_Type'].unique())          # number of labels\n",
      "lam = lams[Min_index[1]]                                   # optimized regularization parameter (1)\n",
      "\n",
      "args = (input_layer_size, hidden_layer_size, num_labels, X_norm, Y, lam)\n",
      "\n",
      "epsilon_init = 2;                                                                       \n",
      "Theta1 = (np.random.rand(hidden_layer_size, input_layer_size + 1) - 0.5) * epsilon_init # ramdomly initialize network weights\n",
      "Theta2 = (np.random.rand(num_labels, hidden_layer_size + 1) - 0.5) * epsilon_init \n",
      "\n",
      "Theta_0 = append(reshape(Theta1, (hidden_layer_size * (input_layer_size + 1)), order = 'F') ,  # vectorize parameters\n",
      "               reshape(Theta2, (num_labels * (hidden_layer_size + 1)), order = 'F'), \\\n",
      "               axis = 0)\n",
      "\n",
      "start = time.time()\n",
      "\n",
      "Theta_opt = scopt.fmin_cg(CostFunction, Theta_0, fprime=CostFunction_grad, args=args)\n",
      "    \n",
      "Theta1_opt = reshape(Theta_opt[:(input_layer_size + 1) * hidden_layer_size],        # Roll up the weights vector \n",
      "                             (hidden_layer_size,input_layer_size+1), order = 'F')     \n",
      "Theta2_opt = reshape(Theta_opt[(input_layer_size + 1) * hidden_layer_size :], \n",
      "                             (num_labels,hidden_layer_size+1), order = 'F')    \n",
      "    \n",
      "end = time.time()\n",
      "    \n",
      "print 'Elapsed time:' + str((end - start)/60) + ' minutes'     "
     ],
     "language": "python",
     "metadata": {},
     "outputs": [
      {
       "output_type": "stream",
       "stream": "stdout",
       "text": [
        "Optimization terminated successfully.\n",
        "         Current function value: 0.650750\n",
        "         Iterations: 16555\n",
        "         Function evaluations: 25887\n",
        "         Gradient evaluations: 25887\n",
        "Elapsed time:79.7733972987 minutes\n"
       ]
      }
     ],
     "prompt_number": 22
    },
    {
     "cell_type": "code",
     "collapsed": false,
     "input": [
      "### Sanity check: Training prediction error:\n",
      "\n",
      "h_train = predict(X_norm,Theta1_opt,Theta2_opt)  \n",
      "Error = (h_train!=labels).mean()\n",
      "    \n",
      "print Error\n",
      "\n",
      "# We find a ~7% error on the training set, which indicates that a larger hidden layer size might be advised (not done here)"
     ],
     "language": "python",
     "metadata": {},
     "outputs": [
      {
       "output_type": "stream",
       "stream": "stdout",
       "text": [
        "0.069708994709\n"
       ]
      }
     ],
     "prompt_number": 36
    },
    {
     "cell_type": "heading",
     "level": 2,
     "metadata": {},
     "source": [
      "2.4 Prediction\n"
     ]
    },
    {
     "cell_type": "code",
     "collapsed": false,
     "input": [
      "### In this section we used our trained Neural Network to predict the cover types of the provided test set\n",
      "\n",
      "Test_df = pd.read_csv('test.csv', header=0) # Import Data Frame of training set\n",
      "\n",
      "if data_compression:\n",
      "  # Defining a 1 dim 'Soil' feature that contains all information of the original 40 features\n",
      "  soil_feature = np.zeros(size(Test_df,0))\n",
      "  Soil_Types = []\n",
      "  for i in np.arange(40):\n",
      "    soil_feature[(Test_df['Soil_Type'+str(i+1)] == 1).values] = i+1\n",
      "    Soil_Types.append('Soil_Type'+str(i+1))\n",
      "    \n",
      "  Test_df['Soil'] = soil_feature \n",
      "  Test_df = Test_df.drop(Soil_Types, axis = 1)\n",
      "\n",
      "if data_compression:\n",
      "  # Defining a 1 dim 'Wilderness' feature that contains all information of the original 4 features\n",
      "  wilderness_feature = np.zeros(size(Test_df,0))\n",
      "  Wilderness_Areas = []\n",
      "  for i in np.arange(4):\n",
      "    wilderness_feature[(Test_df['Wilderness_Area'+str(i+1)] == 1).values] = i+1\n",
      "    Wilderness_Areas.append('Wilderness_Area'+str(i+1))\n",
      "    \n",
      "  Test_df['Wilderness'] = wilderness_feature \n",
      "  Test_df = Test_df.drop(Wilderness_Areas, axis = 1)     \n",
      "    \n",
      "if data_compression:\n",
      "  X_test = Test_df.drop(['Id'], axis = 1).values\n",
      "else:    \n",
      "  X_test = Test_df.drop(['Id','Soil_Type7','Soil_Type15'], axis = 1).values # at least drop unused features    \n",
      "\n",
      "\n",
      "X_test_norm = (X_test - np.ones(X_test.shape).dot(diagflat(mu))) / (np.ones(X_test.shape).dot(diagflat(sigma)) )\n",
      "\n",
      "if data_compression_PCA:\n",
      "  X_test_norm = Ureduce.T.dot(X_test_norm.T).T\n",
      "\n",
      "\n",
      "h_test = predict(X_test_norm,Theta1_opt,Theta2_opt) "
     ],
     "language": "python",
     "metadata": {},
     "outputs": [],
     "prompt_number": 24
    },
    {
     "cell_type": "code",
     "collapsed": false,
     "input": [
      "fig2 = plt.figure(figsize=(20,5))\n",
      "\n",
      "fig2.subplots_adjust(wspace=0.3)\n",
      "\n",
      "subplot(1,3,1)\n",
      "plt.hist(labels, bins=7)\n",
      "xlabel('Cover Type')\n",
      "ylabel('# of instances')\n",
      "title('Histogram of the distribution of Cover Types in the Training Set')\n",
      "\n",
      "subplot(1,3,2)\n",
      "plt.hist(h_train, bins=7)\n",
      "xlabel('Cover Type')\n",
      "ylabel('# of instances')\n",
      "title('Histogram of the predicted distribution in the Training Set')\n",
      "\n",
      "subplot(1,3,3)\n",
      "plt.hist(h_test, bins=7)\n",
      "xlabel('Cover Type')\n",
      "ylabel('# of instances')\n",
      "title('Histogram of the predicted distribution in the Test Set')\n",
      "\n",
      "\n",
      "### We note two observations and possible future improvements:\n",
      "### 1. The traings set is very small compared to the Test set (==> Maybe adjust the Traing set / CV set ratio)\n",
      "### 2. The distribution of labels in Traing and Test set is apparently very different (==> Possibly excluding, e.g., \n",
      "###    Cover Type 4 manually might improve the algorithm)\n"
     ],
     "language": "python",
     "metadata": {},
     "outputs": [
      {
       "metadata": {},
       "output_type": "pyout",
       "prompt_number": 45,
       "text": [
        "<matplotlib.text.Text at 0x11761d410>"
       ]
      },
      {
       "metadata": {},
       "output_type": "display_data",
       "png": "[encoded data removed]",
       "text": [
        "<matplotlib.figure.Figure at 0x1156f2890>"
       ]
      }
     ],
     "prompt_number": 45
    },
    {
     "cell_type": "heading",
     "level": 2,
     "metadata": {},
     "source": [
      "2.5 Output "
     ]
    },
    {
     "cell_type": "code",
     "collapsed": false,
     "input": [
      "### Write the prediction in the output file which subsequently is uploaded at kaggle.com\n",
      "\n",
      "Prediction_df = pd.DataFrame(data = {'Id':Test_df['Id'], 'Cover_Type' : h_test}, columns = ['Id','Cover_Type'])\n",
      "Prediction_df.to_csv('ForrestPrediction.csv', index = False)\n",
      "\n",
      "## Alternative using module csv\n",
      "\n",
      "#import csv as csv \n",
      "#\n",
      "#predictions_file = open('ForrestPrediction.csv','wb')\n",
      "#p = csv.writer(predictions_file)\n",
      "#\n",
      "#p.writerow([\"Id\", \"Cover_Type\"])\n",
      "#i=0\n",
      "#for row in Test_df['Id']:\n",
      "#    p.writerow(['%d' %int(row) , '%d' %int(h_test[i])])\n",
      "#    i+=1\n",
      "\n"
     ],
     "language": "python",
     "metadata": {},
     "outputs": [],
     "prompt_number": 46
    },
    {
     "cell_type": "raw",
     "metadata": {},
     "source": [
      "Final note:\n",
      "\n",
      "This prediction achieves a score of 0.73312 (prediction error = ~ 26%) on the Test set (Evaluated by kaggle.com). \n",
      "[The tenth best result on the leader board at kaggle.com is a prediction error of 21%.]\n",
      "This is substantially higher than the CV error of ~ 16%. A possible reason for this is, as noted above, the substantially different distribution of Cover Types in the Test / Trainings set. \n",
      "Furthermore, a more carefule feature selection, a larger Neural Network depth, or a fine tuning of the parameters might improve the success rate but is beyond the scope of this demo. "
     ]
    }
   ],
   "metadata": {}
  }
 ]
}